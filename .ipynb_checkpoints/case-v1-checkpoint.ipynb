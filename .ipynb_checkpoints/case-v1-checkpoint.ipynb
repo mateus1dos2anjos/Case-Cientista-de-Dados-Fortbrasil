{
 "cells": [
  {
   "cell_type": "markdown",
   "metadata": {},
   "source": [
    "### Importação das bibliotecas"
   ]
  },
  {
   "cell_type": "code",
   "execution_count": 1,
   "metadata": {},
   "outputs": [],
   "source": [
    "import pandas as pd"
   ]
  },
  {
   "cell_type": "markdown",
   "metadata": {},
   "source": [
    "### Leitura dos dados"
   ]
  },
  {
   "cell_type": "code",
   "execution_count": 92,
   "metadata": {},
   "outputs": [],
   "source": [
    "df =  pd.read_table('Questão 1 - Base.txt')"
   ]
  },
  {
   "cell_type": "markdown",
   "metadata": {},
   "source": [
    "## Exploração dos Dados"
   ]
  },
  {
   "cell_type": "markdown",
   "metadata": {},
   "source": [
    "### Visão parcial dos dados"
   ]
  },
  {
   "cell_type": "code",
   "execution_count": 93,
   "metadata": {},
   "outputs": [
    {
     "data": {
      "text/html": [
       "<div>\n",
       "<style scoped>\n",
       "    .dataframe tbody tr th:only-of-type {\n",
       "        vertical-align: middle;\n",
       "    }\n",
       "\n",
       "    .dataframe tbody tr th {\n",
       "        vertical-align: top;\n",
       "    }\n",
       "\n",
       "    .dataframe thead th {\n",
       "        text-align: right;\n",
       "    }\n",
       "</style>\n",
       "<table border=\"1\" class=\"dataframe\">\n",
       "  <thead>\n",
       "    <tr style=\"text-align: right;\">\n",
       "      <th></th>\n",
       "      <th>ID_CONTA</th>\n",
       "      <th>DT_VENCIMENTO</th>\n",
       "      <th>DS_ROLAGEM</th>\n",
       "      <th>VL_FATURA</th>\n",
       "    </tr>\n",
       "  </thead>\n",
       "  <tbody>\n",
       "    <tr>\n",
       "      <th>0</th>\n",
       "      <td>402467</td>\n",
       "      <td>2019-01-01</td>\n",
       "      <td>FX0</td>\n",
       "      <td>210.00</td>\n",
       "    </tr>\n",
       "    <tr>\n",
       "      <th>1</th>\n",
       "      <td>403001</td>\n",
       "      <td>2019-01-01</td>\n",
       "      <td>FX1</td>\n",
       "      <td>1097.18</td>\n",
       "    </tr>\n",
       "    <tr>\n",
       "      <th>2</th>\n",
       "      <td>403499</td>\n",
       "      <td>2019-01-01</td>\n",
       "      <td>FX0</td>\n",
       "      <td>1209.88</td>\n",
       "    </tr>\n",
       "    <tr>\n",
       "      <th>3</th>\n",
       "      <td>403670</td>\n",
       "      <td>2019-01-01</td>\n",
       "      <td>FX0</td>\n",
       "      <td>667.40</td>\n",
       "    </tr>\n",
       "    <tr>\n",
       "      <th>4</th>\n",
       "      <td>404183</td>\n",
       "      <td>2019-01-01</td>\n",
       "      <td>FX1</td>\n",
       "      <td>1239.52</td>\n",
       "    </tr>\n",
       "  </tbody>\n",
       "</table>\n",
       "</div>"
      ],
      "text/plain": [
       "   ID_CONTA DT_VENCIMENTO DS_ROLAGEM  VL_FATURA\n",
       "0    402467    2019-01-01        FX0     210.00\n",
       "1    403001    2019-01-01        FX1    1097.18\n",
       "2    403499    2019-01-01        FX0    1209.88\n",
       "3    403670    2019-01-01        FX0     667.40\n",
       "4    404183    2019-01-01        FX1    1239.52"
      ]
     },
     "execution_count": 93,
     "metadata": {},
     "output_type": "execute_result"
    }
   ],
   "source": [
    "df.head()"
   ]
  },
  {
   "cell_type": "code",
   "execution_count": 14,
   "metadata": {},
   "outputs": [
    {
     "data": {
      "text/plain": [
       "(2728249, 4)"
      ]
     },
     "execution_count": 14,
     "metadata": {},
     "output_type": "execute_result"
    }
   ],
   "source": [
    "df.shape"
   ]
  },
  {
   "cell_type": "code",
   "execution_count": 91,
   "metadata": {},
   "outputs": [
    {
     "name": "stdout",
     "output_type": "stream",
     "text": [
      "<class 'pandas.core.frame.DataFrame'>\n",
      "DatetimeIndex: 2728249 entries, 2019-01-01 to 2019-08-08\n",
      "Data columns (total 3 columns):\n",
      " #   Column      Dtype  \n",
      "---  ------      -----  \n",
      " 0   ID_CONTA    int64  \n",
      " 1   DS_ROLAGEM  object \n",
      " 2   VL_FATURA   float64\n",
      "dtypes: float64(1), int64(1), object(1)\n",
      "memory usage: 83.3+ MB\n"
     ]
    }
   ],
   "source": [
    "df.info()"
   ]
  },
  {
   "cell_type": "markdown",
   "metadata": {},
   "source": [
    "### Converter para DATE"
   ]
  },
  {
   "cell_type": "code",
   "execution_count": 94,
   "metadata": {},
   "outputs": [],
   "source": [
    "df['DT_VENCIMENTO'] = pd.to_datetime(df['DT_VENCIMENTO'])"
   ]
  },
  {
   "cell_type": "markdown",
   "metadata": {},
   "source": [
    "### Valores nulos?"
   ]
  },
  {
   "cell_type": "code",
   "execution_count": 27,
   "metadata": {},
   "outputs": [
    {
     "data": {
      "text/plain": [
       "ID_CONTA         0\n",
       "DT_VENCIMENTO    0\n",
       "DS_ROLAGEM       0\n",
       "VL_FATURA        0\n",
       "dtype: int64"
      ]
     },
     "execution_count": 27,
     "metadata": {},
     "output_type": "execute_result"
    }
   ],
   "source": [
    "df.isnull().sum()"
   ]
  },
  {
   "cell_type": "markdown",
   "metadata": {},
   "source": [
    "### Quantidade de Contas"
   ]
  },
  {
   "cell_type": "code",
   "execution_count": 23,
   "metadata": {},
   "outputs": [
    {
     "data": {
      "text/plain": [
       "458842"
      ]
     },
     "execution_count": 23,
     "metadata": {},
     "output_type": "execute_result"
    }
   ],
   "source": [
    "df['ID_CONTA'].nunique()"
   ]
  },
  {
   "cell_type": "markdown",
   "metadata": {},
   "source": [
    "### Distribuição de faturas pagas no mês anterior"
   ]
  },
  {
   "cell_type": "code",
   "execution_count": 21,
   "metadata": {},
   "outputs": [
    {
     "data": {
      "text/plain": [
       "FX0    90.966624\n",
       "FX1     9.033376\n",
       "Name: DS_ROLAGEM, dtype: float64"
      ]
     },
     "execution_count": 21,
     "metadata": {},
     "output_type": "execute_result"
    }
   ],
   "source": [
    "df['DS_ROLAGEM'].value_counts(normalize=True) * 100"
   ]
  },
  {
   "cell_type": "code",
   "execution_count": 96,
   "metadata": {},
   "outputs": [],
   "source": [
    "df.set_index('DT_VENCIMENTO', inplace=True)"
   ]
  },
  {
   "cell_type": "code",
   "execution_count": 102,
   "metadata": {},
   "outputs": [
    {
     "data": {
      "text/html": [
       "<div>\n",
       "<style scoped>\n",
       "    .dataframe tbody tr th:only-of-type {\n",
       "        vertical-align: middle;\n",
       "    }\n",
       "\n",
       "    .dataframe tbody tr th {\n",
       "        vertical-align: top;\n",
       "    }\n",
       "\n",
       "    .dataframe thead th {\n",
       "        text-align: right;\n",
       "    }\n",
       "</style>\n",
       "<table border=\"1\" class=\"dataframe\">\n",
       "  <thead>\n",
       "    <tr style=\"text-align: right;\">\n",
       "      <th></th>\n",
       "      <th>mean</th>\n",
       "      <th>min</th>\n",
       "      <th>max</th>\n",
       "    </tr>\n",
       "    <tr>\n",
       "      <th>DT_VENCIMENTO</th>\n",
       "      <th></th>\n",
       "      <th></th>\n",
       "      <th></th>\n",
       "    </tr>\n",
       "  </thead>\n",
       "  <tbody>\n",
       "    <tr>\n",
       "      <th>2019-01-31</th>\n",
       "      <td>463.261822</td>\n",
       "      <td>30.00</td>\n",
       "      <td>17046.37</td>\n",
       "    </tr>\n",
       "    <tr>\n",
       "      <th>2019-02-28</th>\n",
       "      <td>481.237717</td>\n",
       "      <td>30.03</td>\n",
       "      <td>18082.05</td>\n",
       "    </tr>\n",
       "    <tr>\n",
       "      <th>2019-03-31</th>\n",
       "      <td>490.117417</td>\n",
       "      <td>30.00</td>\n",
       "      <td>13175.51</td>\n",
       "    </tr>\n",
       "    <tr>\n",
       "      <th>2019-04-30</th>\n",
       "      <td>497.341462</td>\n",
       "      <td>30.02</td>\n",
       "      <td>13737.43</td>\n",
       "    </tr>\n",
       "    <tr>\n",
       "      <th>2019-05-31</th>\n",
       "      <td>509.895617</td>\n",
       "      <td>30.00</td>\n",
       "      <td>20556.23</td>\n",
       "    </tr>\n",
       "    <tr>\n",
       "      <th>2019-06-30</th>\n",
       "      <td>512.915118</td>\n",
       "      <td>30.02</td>\n",
       "      <td>19075.92</td>\n",
       "    </tr>\n",
       "    <tr>\n",
       "      <th>2019-07-31</th>\n",
       "      <td>518.815810</td>\n",
       "      <td>30.00</td>\n",
       "      <td>14526.75</td>\n",
       "    </tr>\n",
       "    <tr>\n",
       "      <th>2019-08-31</th>\n",
       "      <td>525.484887</td>\n",
       "      <td>30.00</td>\n",
       "      <td>19624.60</td>\n",
       "    </tr>\n",
       "    <tr>\n",
       "      <th>2019-09-30</th>\n",
       "      <td>548.157140</td>\n",
       "      <td>30.00</td>\n",
       "      <td>22647.48</td>\n",
       "    </tr>\n",
       "  </tbody>\n",
       "</table>\n",
       "</div>"
      ],
      "text/plain": [
       "                     mean    min       max\n",
       "DT_VENCIMENTO                             \n",
       "2019-01-31     463.261822  30.00  17046.37\n",
       "2019-02-28     481.237717  30.03  18082.05\n",
       "2019-03-31     490.117417  30.00  13175.51\n",
       "2019-04-30     497.341462  30.02  13737.43\n",
       "2019-05-31     509.895617  30.00  20556.23\n",
       "2019-06-30     512.915118  30.02  19075.92\n",
       "2019-07-31     518.815810  30.00  14526.75\n",
       "2019-08-31     525.484887  30.00  19624.60\n",
       "2019-09-30     548.157140  30.00  22647.48"
      ]
     },
     "execution_count": 102,
     "metadata": {},
     "output_type": "execute_result"
    }
   ],
   "source": [
    "df.groupby(pd.Grouper(freq='M'))['VL_FATURA'].agg(['mean', 'min', 'max'])"
   ]
  },
  {
   "cell_type": "markdown",
   "metadata": {},
   "source": [
    "### Testes Realizados"
   ]
  },
  {
   "cell_type": "code",
   "execution_count": 74,
   "metadata": {},
   "outputs": [
    {
     "data": {
      "text/html": [
       "<div>\n",
       "<style scoped>\n",
       "    .dataframe tbody tr th:only-of-type {\n",
       "        vertical-align: middle;\n",
       "    }\n",
       "\n",
       "    .dataframe tbody tr th {\n",
       "        vertical-align: top;\n",
       "    }\n",
       "\n",
       "    .dataframe thead th {\n",
       "        text-align: right;\n",
       "    }\n",
       "</style>\n",
       "<table border=\"1\" class=\"dataframe\">\n",
       "  <thead>\n",
       "    <tr style=\"text-align: right;\">\n",
       "      <th></th>\n",
       "      <th>ID_CONTA</th>\n",
       "      <th>DS_ROLAGEM</th>\n",
       "      <th>VL_FATURA</th>\n",
       "    </tr>\n",
       "    <tr>\n",
       "      <th>DT_VENCIMENTO</th>\n",
       "      <th></th>\n",
       "      <th></th>\n",
       "      <th></th>\n",
       "    </tr>\n",
       "  </thead>\n",
       "  <tbody>\n",
       "    <tr>\n",
       "      <th>2019-01-03</th>\n",
       "      <td>1574086</td>\n",
       "      <td>FX0</td>\n",
       "      <td>199.91</td>\n",
       "    </tr>\n",
       "    <tr>\n",
       "      <th>2019-01-03</th>\n",
       "      <td>1574092</td>\n",
       "      <td>FX0</td>\n",
       "      <td>66.26</td>\n",
       "    </tr>\n",
       "    <tr>\n",
       "      <th>2019-01-03</th>\n",
       "      <td>1574093</td>\n",
       "      <td>FX0</td>\n",
       "      <td>33.03</td>\n",
       "    </tr>\n",
       "    <tr>\n",
       "      <th>2019-01-03</th>\n",
       "      <td>1574108</td>\n",
       "      <td>FX0</td>\n",
       "      <td>460.82</td>\n",
       "    </tr>\n",
       "    <tr>\n",
       "      <th>2019-01-03</th>\n",
       "      <td>1574117</td>\n",
       "      <td>FX0</td>\n",
       "      <td>63.83</td>\n",
       "    </tr>\n",
       "  </tbody>\n",
       "</table>\n",
       "</div>"
      ],
      "text/plain": [
       "               ID_CONTA DS_ROLAGEM  VL_FATURA\n",
       "DT_VENCIMENTO                                \n",
       "2019-01-03      1574086        FX0     199.91\n",
       "2019-01-03      1574092        FX0      66.26\n",
       "2019-01-03      1574093        FX0      33.03\n",
       "2019-01-03      1574108        FX0     460.82\n",
       "2019-01-03      1574117        FX0      63.83"
      ]
     },
     "execution_count": 74,
     "metadata": {},
     "output_type": "execute_result"
    }
   ],
   "source": [
    "teste = df.head(10000).copy()\n",
    "teste.tail()"
   ]
  },
  {
   "cell_type": "code",
   "execution_count": 67,
   "metadata": {},
   "outputs": [],
   "source": [
    "teste.groupby(pd.Grouper(freq='D'))['VL_FATURA'].mean()"
   ]
  },
  {
   "cell_type": "code",
   "execution_count": 68,
   "metadata": {},
   "outputs": [],
   "source": [
    "teste.groupby('DT_VENCIMENTO')['VL_FATURA'].mean()"
   ]
  },
  {
   "cell_type": "code",
   "execution_count": 79,
   "metadata": {},
   "outputs": [
    {
     "data": {
      "text/plain": [
       "DT_VENCIMENTO\n",
       "2019-01-01    4130\n",
       "2019-01-02       0\n",
       "2019-01-03    1965\n",
       "2019-01-04       0\n",
       "2019-01-05    1945\n",
       "2019-01-06       0\n",
       "2019-01-07       0\n",
       "2019-01-08    1242\n",
       "Freq: D, Name: DS_ROLAGEM, dtype: int64"
      ]
     },
     "execution_count": 79,
     "metadata": {},
     "output_type": "execute_result"
    }
   ],
   "source": [
    "teste[teste['DS_ROLAGEM'] == 'FX0'].groupby(pd.Grouper(freq='D')).count()['DS_ROLAGEM']"
   ]
  },
  {
   "cell_type": "code",
   "execution_count": 80,
   "metadata": {},
   "outputs": [
    {
     "data": {
      "text/plain": [
       "DT_VENCIMENTO\n",
       "2019-01-01    290\n",
       "2019-01-02      0\n",
       "2019-01-03    215\n",
       "2019-01-04      0\n",
       "2019-01-05     95\n",
       "2019-01-06      0\n",
       "2019-01-07      0\n",
       "2019-01-08    118\n",
       "Freq: D, Name: DS_ROLAGEM, dtype: int64"
      ]
     },
     "execution_count": 80,
     "metadata": {},
     "output_type": "execute_result"
    }
   ],
   "source": [
    "teste[teste['DS_ROLAGEM'] == 'FX1'].groupby(pd.Grouper(freq='D')).count()['DS_ROLAGEM']"
   ]
  },
  {
   "cell_type": "markdown",
   "metadata": {},
   "source": [
    "### 1.1 – Qual o percentual de faturas emitidas por mês no qual os clientes não pagaram a fatura anterior? "
   ]
  },
  {
   "cell_type": "code",
   "execution_count": 112,
   "metadata": {},
   "outputs": [
    {
     "data": {
      "text/plain": [
       "DT_VENCIMENTO\n",
       "2019-01-31    22835\n",
       "2019-02-28    27928\n",
       "2019-03-31    33432\n",
       "2019-04-30    25380\n",
       "2019-05-31    30321\n",
       "2019-06-30    25977\n",
       "2019-07-31    29889\n",
       "2019-08-31    28736\n",
       "2019-09-30    21955\n",
       "Freq: M, Name: DS_ROLAGEM, dtype: int64"
      ]
     },
     "execution_count": 112,
     "metadata": {},
     "output_type": "execute_result"
    }
   ],
   "source": [
    "df[df['DS_ROLAGEM'] == 'FX1'].groupby(pd.Grouper(freq='M')).count()['DS_ROLAGEM']"
   ]
  },
  {
   "cell_type": "code",
   "execution_count": 113,
   "metadata": {},
   "outputs": [
    {
     "data": {
      "text/plain": [
       "DT_VENCIMENTO\n",
       "2019-01-31    290548\n",
       "2019-02-28    285921\n",
       "2019-03-31    273886\n",
       "2019-04-30    276950\n",
       "2019-05-31    271544\n",
       "2019-06-30    278389\n",
       "2019-07-31    281005\n",
       "2019-08-31    288331\n",
       "2019-09-30    235222\n",
       "Freq: M, Name: DS_ROLAGEM, dtype: int64"
      ]
     },
     "execution_count": 113,
     "metadata": {},
     "output_type": "execute_result"
    }
   ],
   "source": [
    "df[df['DS_ROLAGEM'] == 'FX0'].groupby(pd.Grouper(freq='M')).count()['DS_ROLAGEM']"
   ]
  },
  {
   "cell_type": "code",
   "execution_count": 114,
   "metadata": {},
   "outputs": [],
   "source": [
    "total = df.groupby(pd.Grouper(freq='M')).count()['DS_ROLAGEM'].values\n",
    "faturas_pagas = df[df['DS_ROLAGEM'] == 'FX0'].groupby(pd.Grouper(freq='M')).count()['DS_ROLAGEM'].values\n",
    "faturas_nao_pagas = df[df['DS_ROLAGEM'] == 'FX1'].groupby(pd.Grouper(freq='M')).count()['DS_ROLAGEM'].values"
   ]
  },
  {
   "cell_type": "code",
   "execution_count": 117,
   "metadata": {},
   "outputs": [],
   "source": [
    "meses = ['Janeiro', 'Fevereiro', 'Março', 'Abril', 'Maio', 'Junho', 'Julho', 'Agosto', 'Setembro']\n",
    "\n",
    "novo_df = {'Mês' : meses, \n",
    "           'Faturas Pagas' : faturas_pagas, \n",
    "           'Faturas Não Pagas' : faturas_nao_pagas, \n",
    "           'Total' : total}"
   ]
  },
  {
   "cell_type": "code",
   "execution_count": 119,
   "metadata": {},
   "outputs": [],
   "source": [
    "novo_df = pd.DataFrame(novo_df)"
   ]
  },
  {
   "cell_type": "code",
   "execution_count": 122,
   "metadata": {},
   "outputs": [],
   "source": [
    "novo_df['% Faturas Pagas'] = (novo_df['Faturas Pagas'] / novo_df['Total']) * 100\n",
    "novo_df['% Faturas Não Pagas'] = (novo_df['Faturas Não Pagas'] / novo_df['Total']) * 100"
   ]
  },
  {
   "cell_type": "code",
   "execution_count": 129,
   "metadata": {},
   "outputs": [],
   "source": [
    "novo_df['% Faturas Pagas'] = novo_df['% Faturas Pagas'].apply(lambda x: round(x, 3))\n",
    "novo_df['% Faturas Não Pagas'] = novo_df['% Faturas Não Pagas'].apply(lambda x: round(x, 3))"
   ]
  },
  {
   "cell_type": "code",
   "execution_count": 130,
   "metadata": {},
   "outputs": [
    {
     "data": {
      "text/html": [
       "<div>\n",
       "<style scoped>\n",
       "    .dataframe tbody tr th:only-of-type {\n",
       "        vertical-align: middle;\n",
       "    }\n",
       "\n",
       "    .dataframe tbody tr th {\n",
       "        vertical-align: top;\n",
       "    }\n",
       "\n",
       "    .dataframe thead th {\n",
       "        text-align: right;\n",
       "    }\n",
       "</style>\n",
       "<table border=\"1\" class=\"dataframe\">\n",
       "  <thead>\n",
       "    <tr style=\"text-align: right;\">\n",
       "      <th></th>\n",
       "      <th>Mês</th>\n",
       "      <th>Faturas Pagas</th>\n",
       "      <th>Faturas Não Pagas</th>\n",
       "      <th>Total</th>\n",
       "      <th>% Faturas Pagas</th>\n",
       "      <th>% Faturas Não Pagas</th>\n",
       "    </tr>\n",
       "  </thead>\n",
       "  <tbody>\n",
       "    <tr>\n",
       "      <th>0</th>\n",
       "      <td>Janeiro</td>\n",
       "      <td>290548</td>\n",
       "      <td>22835</td>\n",
       "      <td>313383</td>\n",
       "      <td>92.713</td>\n",
       "      <td>7.287</td>\n",
       "    </tr>\n",
       "    <tr>\n",
       "      <th>1</th>\n",
       "      <td>Fevereiro</td>\n",
       "      <td>285921</td>\n",
       "      <td>27928</td>\n",
       "      <td>313849</td>\n",
       "      <td>91.101</td>\n",
       "      <td>8.899</td>\n",
       "    </tr>\n",
       "    <tr>\n",
       "      <th>2</th>\n",
       "      <td>Março</td>\n",
       "      <td>273886</td>\n",
       "      <td>33432</td>\n",
       "      <td>307318</td>\n",
       "      <td>89.121</td>\n",
       "      <td>10.879</td>\n",
       "    </tr>\n",
       "    <tr>\n",
       "      <th>3</th>\n",
       "      <td>Abril</td>\n",
       "      <td>276950</td>\n",
       "      <td>25380</td>\n",
       "      <td>302330</td>\n",
       "      <td>91.605</td>\n",
       "      <td>8.395</td>\n",
       "    </tr>\n",
       "    <tr>\n",
       "      <th>4</th>\n",
       "      <td>Maio</td>\n",
       "      <td>271544</td>\n",
       "      <td>30321</td>\n",
       "      <td>301865</td>\n",
       "      <td>89.955</td>\n",
       "      <td>10.045</td>\n",
       "    </tr>\n",
       "    <tr>\n",
       "      <th>5</th>\n",
       "      <td>Junho</td>\n",
       "      <td>278389</td>\n",
       "      <td>25977</td>\n",
       "      <td>304366</td>\n",
       "      <td>91.465</td>\n",
       "      <td>8.535</td>\n",
       "    </tr>\n",
       "    <tr>\n",
       "      <th>6</th>\n",
       "      <td>Julho</td>\n",
       "      <td>281005</td>\n",
       "      <td>29889</td>\n",
       "      <td>310894</td>\n",
       "      <td>90.386</td>\n",
       "      <td>9.614</td>\n",
       "    </tr>\n",
       "    <tr>\n",
       "      <th>7</th>\n",
       "      <td>Agosto</td>\n",
       "      <td>288331</td>\n",
       "      <td>28736</td>\n",
       "      <td>317067</td>\n",
       "      <td>90.937</td>\n",
       "      <td>9.063</td>\n",
       "    </tr>\n",
       "    <tr>\n",
       "      <th>8</th>\n",
       "      <td>Setembro</td>\n",
       "      <td>235222</td>\n",
       "      <td>21955</td>\n",
       "      <td>257177</td>\n",
       "      <td>91.463</td>\n",
       "      <td>8.537</td>\n",
       "    </tr>\n",
       "  </tbody>\n",
       "</table>\n",
       "</div>"
      ],
      "text/plain": [
       "         Mês  Faturas Pagas  Faturas Não Pagas   Total  % Faturas Pagas  \\\n",
       "0    Janeiro         290548              22835  313383           92.713   \n",
       "1  Fevereiro         285921              27928  313849           91.101   \n",
       "2      Março         273886              33432  307318           89.121   \n",
       "3      Abril         276950              25380  302330           91.605   \n",
       "4       Maio         271544              30321  301865           89.955   \n",
       "5      Junho         278389              25977  304366           91.465   \n",
       "6      Julho         281005              29889  310894           90.386   \n",
       "7     Agosto         288331              28736  317067           90.937   \n",
       "8   Setembro         235222              21955  257177           91.463   \n",
       "\n",
       "   % Faturas Não Pagas  \n",
       "0                7.287  \n",
       "1                8.899  \n",
       "2               10.879  \n",
       "3                8.395  \n",
       "4               10.045  \n",
       "5                8.535  \n",
       "6                9.614  \n",
       "7                9.063  \n",
       "8                8.537  "
      ]
     },
     "execution_count": 130,
     "metadata": {},
     "output_type": "execute_result"
    }
   ],
   "source": [
    "novo_df"
   ]
  }
 ],
 "metadata": {
  "kernelspec": {
   "display_name": "Python 3",
   "language": "python",
   "name": "python3"
  },
  "language_info": {
   "codemirror_mode": {
    "name": "ipython",
    "version": 3
   },
   "file_extension": ".py",
   "mimetype": "text/x-python",
   "name": "python",
   "nbconvert_exporter": "python",
   "pygments_lexer": "ipython3",
   "version": "3.8.5"
  }
 },
 "nbformat": 4,
 "nbformat_minor": 4
}
