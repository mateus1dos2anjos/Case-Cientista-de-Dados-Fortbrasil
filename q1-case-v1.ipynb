{
 "cells": [
  {
   "cell_type": "markdown",
   "metadata": {},
   "source": [
    "### Importação das bibliotecas"
   ]
  },
  {
   "cell_type": "code",
   "execution_count": 1,
   "metadata": {},
   "outputs": [],
   "source": [
    "import pandas as pd"
   ]
  },
  {
   "cell_type": "markdown",
   "metadata": {},
   "source": [
    "### Leitura dos dados"
   ]
  },
  {
   "cell_type": "code",
   "execution_count": 2,
   "metadata": {},
   "outputs": [],
   "source": [
    "df =  pd.read_table('Questão 1 - Base.txt')"
   ]
  },
  {
   "cell_type": "markdown",
   "metadata": {},
   "source": [
    "## Exploração dos Dados"
   ]
  },
  {
   "cell_type": "markdown",
   "metadata": {},
   "source": [
    "### Visão parcial dos dados"
   ]
  },
  {
   "cell_type": "code",
   "execution_count": 3,
   "metadata": {},
   "outputs": [
    {
     "data": {
      "text/html": [
       "<div>\n",
       "<style scoped>\n",
       "    .dataframe tbody tr th:only-of-type {\n",
       "        vertical-align: middle;\n",
       "    }\n",
       "\n",
       "    .dataframe tbody tr th {\n",
       "        vertical-align: top;\n",
       "    }\n",
       "\n",
       "    .dataframe thead th {\n",
       "        text-align: right;\n",
       "    }\n",
       "</style>\n",
       "<table border=\"1\" class=\"dataframe\">\n",
       "  <thead>\n",
       "    <tr style=\"text-align: right;\">\n",
       "      <th></th>\n",
       "      <th>ID_CONTA</th>\n",
       "      <th>DT_VENCIMENTO</th>\n",
       "      <th>DS_ROLAGEM</th>\n",
       "      <th>VL_FATURA</th>\n",
       "    </tr>\n",
       "  </thead>\n",
       "  <tbody>\n",
       "    <tr>\n",
       "      <th>0</th>\n",
       "      <td>402467</td>\n",
       "      <td>2019-01-01</td>\n",
       "      <td>FX0</td>\n",
       "      <td>210.00</td>\n",
       "    </tr>\n",
       "    <tr>\n",
       "      <th>1</th>\n",
       "      <td>403001</td>\n",
       "      <td>2019-01-01</td>\n",
       "      <td>FX1</td>\n",
       "      <td>1097.18</td>\n",
       "    </tr>\n",
       "    <tr>\n",
       "      <th>2</th>\n",
       "      <td>403499</td>\n",
       "      <td>2019-01-01</td>\n",
       "      <td>FX0</td>\n",
       "      <td>1209.88</td>\n",
       "    </tr>\n",
       "    <tr>\n",
       "      <th>3</th>\n",
       "      <td>403670</td>\n",
       "      <td>2019-01-01</td>\n",
       "      <td>FX0</td>\n",
       "      <td>667.40</td>\n",
       "    </tr>\n",
       "    <tr>\n",
       "      <th>4</th>\n",
       "      <td>404183</td>\n",
       "      <td>2019-01-01</td>\n",
       "      <td>FX1</td>\n",
       "      <td>1239.52</td>\n",
       "    </tr>\n",
       "  </tbody>\n",
       "</table>\n",
       "</div>"
      ],
      "text/plain": [
       "   ID_CONTA DT_VENCIMENTO DS_ROLAGEM  VL_FATURA\n",
       "0    402467    2019-01-01        FX0     210.00\n",
       "1    403001    2019-01-01        FX1    1097.18\n",
       "2    403499    2019-01-01        FX0    1209.88\n",
       "3    403670    2019-01-01        FX0     667.40\n",
       "4    404183    2019-01-01        FX1    1239.52"
      ]
     },
     "execution_count": 3,
     "metadata": {},
     "output_type": "execute_result"
    }
   ],
   "source": [
    "df.head()"
   ]
  },
  {
   "cell_type": "code",
   "execution_count": 4,
   "metadata": {},
   "outputs": [
    {
     "data": {
      "text/plain": [
       "(2728249, 4)"
      ]
     },
     "execution_count": 4,
     "metadata": {},
     "output_type": "execute_result"
    }
   ],
   "source": [
    "df.shape"
   ]
  },
  {
   "cell_type": "code",
   "execution_count": 5,
   "metadata": {},
   "outputs": [
    {
     "name": "stdout",
     "output_type": "stream",
     "text": [
      "<class 'pandas.core.frame.DataFrame'>\n",
      "RangeIndex: 2728249 entries, 0 to 2728248\n",
      "Data columns (total 4 columns):\n",
      " #   Column         Dtype  \n",
      "---  ------         -----  \n",
      " 0   ID_CONTA       int64  \n",
      " 1   DT_VENCIMENTO  object \n",
      " 2   DS_ROLAGEM     object \n",
      " 3   VL_FATURA      float64\n",
      "dtypes: float64(1), int64(1), object(2)\n",
      "memory usage: 83.3+ MB\n"
     ]
    }
   ],
   "source": [
    "df.info()"
   ]
  },
  {
   "cell_type": "markdown",
   "metadata": {},
   "source": [
    "### Converter a variável 'DT_VENCIMENTO' para o tipo DATE"
   ]
  },
  {
   "cell_type": "code",
   "execution_count": 6,
   "metadata": {},
   "outputs": [],
   "source": [
    "df['DT_VENCIMENTO'] = pd.to_datetime(df['DT_VENCIMENTO'])"
   ]
  },
  {
   "cell_type": "markdown",
   "metadata": {},
   "source": [
    "### Verificando se há valores nulos"
   ]
  },
  {
   "cell_type": "code",
   "execution_count": 7,
   "metadata": {},
   "outputs": [
    {
     "data": {
      "text/plain": [
       "ID_CONTA         0\n",
       "DT_VENCIMENTO    0\n",
       "DS_ROLAGEM       0\n",
       "VL_FATURA        0\n",
       "dtype: int64"
      ]
     },
     "execution_count": 7,
     "metadata": {},
     "output_type": "execute_result"
    }
   ],
   "source": [
    "df.isnull().sum()"
   ]
  },
  {
   "cell_type": "markdown",
   "metadata": {},
   "source": [
    "### Quantidade de Contas"
   ]
  },
  {
   "cell_type": "code",
   "execution_count": 8,
   "metadata": {},
   "outputs": [
    {
     "data": {
      "text/plain": [
       "458842"
      ]
     },
     "execution_count": 8,
     "metadata": {},
     "output_type": "execute_result"
    }
   ],
   "source": [
    "df['ID_CONTA'].nunique()"
   ]
  },
  {
   "cell_type": "markdown",
   "metadata": {},
   "source": [
    "### Distribuição de faturas pagas no mês anterior"
   ]
  },
  {
   "cell_type": "code",
   "execution_count": 9,
   "metadata": {},
   "outputs": [
    {
     "data": {
      "text/plain": [
       "FX0    2481796\n",
       "FX1     246453\n",
       "Name: DS_ROLAGEM, dtype: int64"
      ]
     },
     "execution_count": 9,
     "metadata": {},
     "output_type": "execute_result"
    }
   ],
   "source": [
    "df['DS_ROLAGEM'].value_counts()"
   ]
  },
  {
   "cell_type": "code",
   "execution_count": 10,
   "metadata": {},
   "outputs": [],
   "source": [
    "# !pip install plotly\n",
    "\n",
    "#  import plotly.express as px\n",
    "\n",
    "# Etapa 1: Criar gráfico\n",
    "#  for coluna in df.columns:\n",
    "    # Para edições nos gráficos: https://plotly.com/python/histograms/\n",
    "#    grafico1 = px.histogram(df, x=\"Dependentes\", color=\"Churn\", color_discrete_sequence=[\"blue\", \"red\"])\n",
    "    # Etapa 2: Exibir gráfico\n",
    "#    grafico1.show()"
   ]
  },
  {
   "cell_type": "code",
   "execution_count": 11,
   "metadata": {},
   "outputs": [
    {
     "data": {
      "image/png": "[encoded data removed]",
      "text/plain": [
       "<Figure size 432x288 with 1 Axes>"
      ]
     },
     "metadata": {
      "needs_background": "light"
     },
     "output_type": "display_data"
    }
   ],
   "source": [
    "df['DS_ROLAGEM'].hist();"
   ]
  },
  {
   "cell_type": "code",
   "execution_count": 12,
   "metadata": {},
   "outputs": [
    {
     "data": {
      "text/plain": [
       "FX0    90.966624\n",
       "FX1     9.033376\n",
       "Name: DS_ROLAGEM, dtype: float64"
      ]
     },
     "execution_count": 12,
     "metadata": {},
     "output_type": "execute_result"
    }
   ],
   "source": [
    "df['DS_ROLAGEM'].value_counts(normalize=True) * 100"
   ]
  },
  {
   "cell_type": "code",
   "execution_count": 13,
   "metadata": {},
   "outputs": [],
   "source": [
    "# Setando a variável 'DT_VENCIMENTO' como index \n",
    "df.set_index('DT_VENCIMENTO', inplace=True)"
   ]
  },
  {
   "cell_type": "code",
   "execution_count": 14,
   "metadata": {},
   "outputs": [
    {
     "data": {
      "text/html": [
       "<div>\n",
       "<style scoped>\n",
       "    .dataframe tbody tr th:only-of-type {\n",
       "        vertical-align: middle;\n",
       "    }\n",
       "\n",
       "    .dataframe tbody tr th {\n",
       "        vertical-align: top;\n",
       "    }\n",
       "\n",
       "    .dataframe thead th {\n",
       "        text-align: right;\n",
       "    }\n",
       "</style>\n",
       "<table border=\"1\" class=\"dataframe\">\n",
       "  <thead>\n",
       "    <tr style=\"text-align: right;\">\n",
       "      <th></th>\n",
       "      <th>mean</th>\n",
       "      <th>min</th>\n",
       "      <th>max</th>\n",
       "    </tr>\n",
       "    <tr>\n",
       "      <th>DT_VENCIMENTO</th>\n",
       "      <th></th>\n",
       "      <th></th>\n",
       "      <th></th>\n",
       "    </tr>\n",
       "  </thead>\n",
       "  <tbody>\n",
       "    <tr>\n",
       "      <th>2019-01-31</th>\n",
       "      <td>463.261822</td>\n",
       "      <td>30.00</td>\n",
       "      <td>17046.37</td>\n",
       "    </tr>\n",
       "    <tr>\n",
       "      <th>2019-02-28</th>\n",
       "      <td>481.237717</td>\n",
       "      <td>30.03</td>\n",
       "      <td>18082.05</td>\n",
       "    </tr>\n",
       "    <tr>\n",
       "      <th>2019-03-31</th>\n",
       "      <td>490.117417</td>\n",
       "      <td>30.00</td>\n",
       "      <td>13175.51</td>\n",
       "    </tr>\n",
       "    <tr>\n",
       "      <th>2019-04-30</th>\n",
       "      <td>497.341462</td>\n",
       "      <td>30.02</td>\n",
       "      <td>13737.43</td>\n",
       "    </tr>\n",
       "    <tr>\n",
       "      <th>2019-05-31</th>\n",
       "      <td>509.895617</td>\n",
       "      <td>30.00</td>\n",
       "      <td>20556.23</td>\n",
       "    </tr>\n",
       "    <tr>\n",
       "      <th>2019-06-30</th>\n",
       "      <td>512.915118</td>\n",
       "      <td>30.02</td>\n",
       "      <td>19075.92</td>\n",
       "    </tr>\n",
       "    <tr>\n",
       "      <th>2019-07-31</th>\n",
       "      <td>518.815810</td>\n",
       "      <td>30.00</td>\n",
       "      <td>14526.75</td>\n",
       "    </tr>\n",
       "    <tr>\n",
       "      <th>2019-08-31</th>\n",
       "      <td>525.484887</td>\n",
       "      <td>30.00</td>\n",
       "      <td>19624.60</td>\n",
       "    </tr>\n",
       "    <tr>\n",
       "      <th>2019-09-30</th>\n",
       "      <td>548.157140</td>\n",
       "      <td>30.00</td>\n",
       "      <td>22647.48</td>\n",
       "    </tr>\n",
       "  </tbody>\n",
       "</table>\n",
       "</div>"
      ],
      "text/plain": [
       "                     mean    min       max\n",
       "DT_VENCIMENTO                             \n",
       "2019-01-31     463.261822  30.00  17046.37\n",
       "2019-02-28     481.237717  30.03  18082.05\n",
       "2019-03-31     490.117417  30.00  13175.51\n",
       "2019-04-30     497.341462  30.02  13737.43\n",
       "2019-05-31     509.895617  30.00  20556.23\n",
       "2019-06-30     512.915118  30.02  19075.92\n",
       "2019-07-31     518.815810  30.00  14526.75\n",
       "2019-08-31     525.484887  30.00  19624.60\n",
       "2019-09-30     548.157140  30.00  22647.48"
      ]
     },
     "execution_count": 14,
     "metadata": {},
     "output_type": "execute_result"
    }
   ],
   "source": [
    "# Agrupando por mês os valores das faturas e aplicando a média, o valor mínimo e máximo da fatura\n",
    "df.groupby(pd.Grouper(freq='M'))['VL_FATURA'].agg(['mean', 'min', 'max'])"
   ]
  },
  {
   "cell_type": "markdown",
   "metadata": {},
   "source": [
    "### Testes Realizados"
   ]
  },
  {
   "cell_type": "code",
   "execution_count": 15,
   "metadata": {},
   "outputs": [
    {
     "data": {
      "text/html": [
       "<div>\n",
       "<style scoped>\n",
       "    .dataframe tbody tr th:only-of-type {\n",
       "        vertical-align: middle;\n",
       "    }\n",
       "\n",
       "    .dataframe tbody tr th {\n",
       "        vertical-align: top;\n",
       "    }\n",
       "\n",
       "    .dataframe thead th {\n",
       "        text-align: right;\n",
       "    }\n",
       "</style>\n",
       "<table border=\"1\" class=\"dataframe\">\n",
       "  <thead>\n",
       "    <tr style=\"text-align: right;\">\n",
       "      <th></th>\n",
       "      <th>ID_CONTA</th>\n",
       "      <th>DS_ROLAGEM</th>\n",
       "      <th>VL_FATURA</th>\n",
       "    </tr>\n",
       "    <tr>\n",
       "      <th>DT_VENCIMENTO</th>\n",
       "      <th></th>\n",
       "      <th></th>\n",
       "      <th></th>\n",
       "    </tr>\n",
       "  </thead>\n",
       "  <tbody>\n",
       "    <tr>\n",
       "      <th>2019-01-01</th>\n",
       "      <td>402467</td>\n",
       "      <td>FX0</td>\n",
       "      <td>210.00</td>\n",
       "    </tr>\n",
       "    <tr>\n",
       "      <th>2019-01-01</th>\n",
       "      <td>403001</td>\n",
       "      <td>FX1</td>\n",
       "      <td>1097.18</td>\n",
       "    </tr>\n",
       "    <tr>\n",
       "      <th>2019-01-01</th>\n",
       "      <td>403499</td>\n",
       "      <td>FX0</td>\n",
       "      <td>1209.88</td>\n",
       "    </tr>\n",
       "    <tr>\n",
       "      <th>2019-01-01</th>\n",
       "      <td>403670</td>\n",
       "      <td>FX0</td>\n",
       "      <td>667.40</td>\n",
       "    </tr>\n",
       "    <tr>\n",
       "      <th>2019-01-01</th>\n",
       "      <td>404183</td>\n",
       "      <td>FX1</td>\n",
       "      <td>1239.52</td>\n",
       "    </tr>\n",
       "  </tbody>\n",
       "</table>\n",
       "</div>"
      ],
      "text/plain": [
       "               ID_CONTA DS_ROLAGEM  VL_FATURA\n",
       "DT_VENCIMENTO                                \n",
       "2019-01-01       402467        FX0     210.00\n",
       "2019-01-01       403001        FX1    1097.18\n",
       "2019-01-01       403499        FX0    1209.88\n",
       "2019-01-01       403670        FX0     667.40\n",
       "2019-01-01       404183        FX1    1239.52"
      ]
     },
     "execution_count": 15,
     "metadata": {},
     "output_type": "execute_result"
    }
   ],
   "source": [
    "# Pegando apenas 10 mil linhas para acelerar os testes\n",
    "teste = df.head(10000)\n",
    "teste.head()"
   ]
  },
  {
   "cell_type": "code",
   "execution_count": 16,
   "metadata": {},
   "outputs": [
    {
     "data": {
      "text/plain": [
       "DT_VENCIMENTO\n",
       "2019-01-01    555.099993\n",
       "2019-01-02           NaN\n",
       "2019-01-03    322.786720\n",
       "2019-01-04           NaN\n",
       "2019-01-05    578.378985\n",
       "2019-01-06           NaN\n",
       "2019-01-07           NaN\n",
       "2019-01-08    428.092669\n",
       "Freq: D, Name: VL_FATURA, dtype: float64"
      ]
     },
     "execution_count": 16,
     "metadata": {},
     "output_type": "execute_result"
    }
   ],
   "source": [
    "teste.groupby(pd.Grouper(freq='D'))['VL_FATURA'].mean()"
   ]
  },
  {
   "cell_type": "code",
   "execution_count": 17,
   "metadata": {},
   "outputs": [
    {
     "data": {
      "text/plain": [
       "DT_VENCIMENTO\n",
       "2019-01-01    555.099993\n",
       "2019-01-03    322.786720\n",
       "2019-01-05    578.378985\n",
       "2019-01-08    428.092669\n",
       "Name: VL_FATURA, dtype: float64"
      ]
     },
     "execution_count": 17,
     "metadata": {},
     "output_type": "execute_result"
    }
   ],
   "source": [
    "teste.groupby('DT_VENCIMENTO')['VL_FATURA'].mean()"
   ]
  },
  {
   "cell_type": "code",
   "execution_count": 18,
   "metadata": {},
   "outputs": [
    {
     "data": {
      "text/plain": [
       "DT_VENCIMENTO\n",
       "2019-01-01    4130\n",
       "2019-01-02       0\n",
       "2019-01-03    1965\n",
       "2019-01-04       0\n",
       "2019-01-05    1945\n",
       "2019-01-06       0\n",
       "2019-01-07       0\n",
       "2019-01-08    1242\n",
       "Freq: D, Name: DS_ROLAGEM, dtype: int64"
      ]
     },
     "execution_count": 18,
     "metadata": {},
     "output_type": "execute_result"
    }
   ],
   "source": [
    "teste[teste['DS_ROLAGEM'] == 'FX0'].groupby(pd.Grouper(freq='D')).count()['DS_ROLAGEM']"
   ]
  },
  {
   "cell_type": "code",
   "execution_count": 19,
   "metadata": {},
   "outputs": [
    {
     "data": {
      "text/plain": [
       "DT_VENCIMENTO\n",
       "2019-01-01    290\n",
       "2019-01-02      0\n",
       "2019-01-03    215\n",
       "2019-01-04      0\n",
       "2019-01-05     95\n",
       "2019-01-06      0\n",
       "2019-01-07      0\n",
       "2019-01-08    118\n",
       "Freq: D, Name: DS_ROLAGEM, dtype: int64"
      ]
     },
     "execution_count": 19,
     "metadata": {},
     "output_type": "execute_result"
    }
   ],
   "source": [
    "teste[teste['DS_ROLAGEM'] == 'FX1'].groupby(pd.Grouper(freq='D')).count()['DS_ROLAGEM']"
   ]
  },
  {
   "cell_type": "markdown",
   "metadata": {},
   "source": [
    "### 1.1 – Qual o percentual de faturas emitidas por mês no qual os clientes não pagaram a fatura anterior? "
   ]
  },
  {
   "cell_type": "code",
   "execution_count": 20,
   "metadata": {},
   "outputs": [
    {
     "data": {
      "text/plain": [
       "DT_VENCIMENTO\n",
       "2019-01-31    22835\n",
       "2019-02-28    27928\n",
       "2019-03-31    33432\n",
       "2019-04-30    25380\n",
       "2019-05-31    30321\n",
       "2019-06-30    25977\n",
       "2019-07-31    29889\n",
       "2019-08-31    28736\n",
       "2019-09-30    21955\n",
       "Freq: M, Name: DS_ROLAGEM, dtype: int64"
      ]
     },
     "execution_count": 20,
     "metadata": {},
     "output_type": "execute_result"
    }
   ],
   "source": [
    "# Quantidade de faturas não pagas por mês\n",
    "df[df['DS_ROLAGEM'] == 'FX1'].groupby(pd.Grouper(freq='M')).count()['DS_ROLAGEM']"
   ]
  },
  {
   "cell_type": "code",
   "execution_count": 21,
   "metadata": {},
   "outputs": [
    {
     "data": {
      "text/plain": [
       "DT_VENCIMENTO\n",
       "2019-01-31    290548\n",
       "2019-02-28    285921\n",
       "2019-03-31    273886\n",
       "2019-04-30    276950\n",
       "2019-05-31    271544\n",
       "2019-06-30    278389\n",
       "2019-07-31    281005\n",
       "2019-08-31    288331\n",
       "2019-09-30    235222\n",
       "Freq: M, Name: DS_ROLAGEM, dtype: int64"
      ]
     },
     "execution_count": 21,
     "metadata": {},
     "output_type": "execute_result"
    }
   ],
   "source": [
    "# Quantidade de faturas pagas por mês\n",
    "df[df['DS_ROLAGEM'] == 'FX0'].groupby(pd.Grouper(freq='M')).count()['DS_ROLAGEM']"
   ]
  },
  {
   "cell_type": "code",
   "execution_count": 22,
   "metadata": {},
   "outputs": [],
   "source": [
    "# Quantidade de faturas por mês\n",
    "total = df.groupby(pd.Grouper(freq='M')).count()['DS_ROLAGEM'].values\n",
    "\n",
    "# Quantidade de faturas pagas por mês\n",
    "faturas_pagas = df[df['DS_ROLAGEM'] == 'FX0'].groupby(pd.Grouper(freq='M')).count()['DS_ROLAGEM'].values\n",
    "\n",
    "# Quantidade de faturas não pagas por mês\n",
    "faturas_nao_pagas = df[df['DS_ROLAGEM'] == 'FX1'].groupby(pd.Grouper(freq='M')).count()['DS_ROLAGEM'].values"
   ]
  },
  {
   "cell_type": "code",
   "execution_count": 23,
   "metadata": {},
   "outputs": [],
   "source": [
    "meses = ['Janeiro', 'Fevereiro', 'Março', 'Abril', 'Maio', 'Junho', 'Julho', 'Agosto', 'Setembro']\n",
    "\n",
    "novo_df = {'Mês' : meses, \n",
    "           'Faturas Pagas' : faturas_pagas, \n",
    "           'Faturas Não Pagas' : faturas_nao_pagas, \n",
    "           'Total' : total}"
   ]
  },
  {
   "cell_type": "code",
   "execution_count": 24,
   "metadata": {},
   "outputs": [],
   "source": [
    "novo_df = pd.DataFrame(novo_df)"
   ]
  },
  {
   "cell_type": "code",
   "execution_count": 25,
   "metadata": {},
   "outputs": [],
   "source": [
    "novo_df['% Faturas Pagas'] = (novo_df['Faturas Pagas'] / novo_df['Total']) * 100\n",
    "novo_df['% Faturas Não Pagas'] = (novo_df['Faturas Não Pagas'] / novo_df['Total']) * 100"
   ]
  },
  {
   "cell_type": "code",
   "execution_count": 26,
   "metadata": {},
   "outputs": [],
   "source": [
    "novo_df['% Faturas Pagas'] = novo_df['% Faturas Pagas'].apply(lambda x: round(x, 2))\n",
    "novo_df['% Faturas Não Pagas'] = novo_df['% Faturas Não Pagas'].apply(lambda x: round(x, 2))"
   ]
  },
  {
   "cell_type": "code",
   "execution_count": 27,
   "metadata": {
    "scrolled": true
   },
   "outputs": [
    {
     "data": {
      "text/html": [
       "<div>\n",
       "<style scoped>\n",
       "    .dataframe tbody tr th:only-of-type {\n",
       "        vertical-align: middle;\n",
       "    }\n",
       "\n",
       "    .dataframe tbody tr th {\n",
       "        vertical-align: top;\n",
       "    }\n",
       "\n",
       "    .dataframe thead th {\n",
       "        text-align: right;\n",
       "    }\n",
       "</style>\n",
       "<table border=\"1\" class=\"dataframe\">\n",
       "  <thead>\n",
       "    <tr style=\"text-align: right;\">\n",
       "      <th></th>\n",
       "      <th>Mês</th>\n",
       "      <th>Faturas Pagas</th>\n",
       "      <th>Faturas Não Pagas</th>\n",
       "      <th>Total</th>\n",
       "      <th>% Faturas Pagas</th>\n",
       "      <th>% Faturas Não Pagas</th>\n",
       "    </tr>\n",
       "  </thead>\n",
       "  <tbody>\n",
       "    <tr>\n",
       "      <th>0</th>\n",
       "      <td>Janeiro</td>\n",
       "      <td>290548</td>\n",
       "      <td>22835</td>\n",
       "      <td>313383</td>\n",
       "      <td>92.71</td>\n",
       "      <td>7.29</td>\n",
       "    </tr>\n",
       "    <tr>\n",
       "      <th>1</th>\n",
       "      <td>Fevereiro</td>\n",
       "      <td>285921</td>\n",
       "      <td>27928</td>\n",
       "      <td>313849</td>\n",
       "      <td>91.10</td>\n",
       "      <td>8.90</td>\n",
       "    </tr>\n",
       "    <tr>\n",
       "      <th>2</th>\n",
       "      <td>Março</td>\n",
       "      <td>273886</td>\n",
       "      <td>33432</td>\n",
       "      <td>307318</td>\n",
       "      <td>89.12</td>\n",
       "      <td>10.88</td>\n",
       "    </tr>\n",
       "    <tr>\n",
       "      <th>3</th>\n",
       "      <td>Abril</td>\n",
       "      <td>276950</td>\n",
       "      <td>25380</td>\n",
       "      <td>302330</td>\n",
       "      <td>91.61</td>\n",
       "      <td>8.39</td>\n",
       "    </tr>\n",
       "    <tr>\n",
       "      <th>4</th>\n",
       "      <td>Maio</td>\n",
       "      <td>271544</td>\n",
       "      <td>30321</td>\n",
       "      <td>301865</td>\n",
       "      <td>89.96</td>\n",
       "      <td>10.04</td>\n",
       "    </tr>\n",
       "    <tr>\n",
       "      <th>5</th>\n",
       "      <td>Junho</td>\n",
       "      <td>278389</td>\n",
       "      <td>25977</td>\n",
       "      <td>304366</td>\n",
       "      <td>91.47</td>\n",
       "      <td>8.53</td>\n",
       "    </tr>\n",
       "    <tr>\n",
       "      <th>6</th>\n",
       "      <td>Julho</td>\n",
       "      <td>281005</td>\n",
       "      <td>29889</td>\n",
       "      <td>310894</td>\n",
       "      <td>90.39</td>\n",
       "      <td>9.61</td>\n",
       "    </tr>\n",
       "    <tr>\n",
       "      <th>7</th>\n",
       "      <td>Agosto</td>\n",
       "      <td>288331</td>\n",
       "      <td>28736</td>\n",
       "      <td>317067</td>\n",
       "      <td>90.94</td>\n",
       "      <td>9.06</td>\n",
       "    </tr>\n",
       "    <tr>\n",
       "      <th>8</th>\n",
       "      <td>Setembro</td>\n",
       "      <td>235222</td>\n",
       "      <td>21955</td>\n",
       "      <td>257177</td>\n",
       "      <td>91.46</td>\n",
       "      <td>8.54</td>\n",
       "    </tr>\n",
       "  </tbody>\n",
       "</table>\n",
       "</div>"
      ],
      "text/plain": [
       "         Mês  Faturas Pagas  Faturas Não Pagas   Total  % Faturas Pagas  \\\n",
       "0    Janeiro         290548              22835  313383            92.71   \n",
       "1  Fevereiro         285921              27928  313849            91.10   \n",
       "2      Março         273886              33432  307318            89.12   \n",
       "3      Abril         276950              25380  302330            91.61   \n",
       "4       Maio         271544              30321  301865            89.96   \n",
       "5      Junho         278389              25977  304366            91.47   \n",
       "6      Julho         281005              29889  310894            90.39   \n",
       "7     Agosto         288331              28736  317067            90.94   \n",
       "8   Setembro         235222              21955  257177            91.46   \n",
       "\n",
       "   % Faturas Não Pagas  \n",
       "0                 7.29  \n",
       "1                 8.90  \n",
       "2                10.88  \n",
       "3                 8.39  \n",
       "4                10.04  \n",
       "5                 8.53  \n",
       "6                 9.61  \n",
       "7                 9.06  \n",
       "8                 8.54  "
      ]
     },
     "execution_count": 27,
     "metadata": {},
     "output_type": "execute_result"
    }
   ],
   "source": [
    "novo_df"
   ]
  },
  {
   "cell_type": "markdown",
   "metadata": {},
   "source": [
    "### 1.3 – Utilizando como referência a base calculada na questão anterior, identifique qual das 3 variáveis calculadas tem o maior potencial preditivo em relação a variável DS_ROLAGEM do mês de setembro. "
   ]
  },
  {
   "cell_type": "code",
   "execution_count": null,
   "metadata": {},
   "outputs": [],
   "source": [
    "# Separar dataset em conjunto de treino e teste\n",
    "X_train, X_test, y_train, y_test = train_test_split(X, y, test_size=0.3)"
   ]
  },
  {
   "cell_type": "code",
   "execution_count": null,
   "metadata": {},
   "outputs": [],
   "source": [
    "# Criar modelo de regressão linear sem escalonamento de features para predição\n",
    "lr = LinearRegression()\n",
    "lr.fit(X_train, y_train)\n",
    "y_pred = lr.predict(X_test)"
   ]
  },
  {
   "cell_type": "code",
   "execution_count": null,
   "metadata": {},
   "outputs": [],
   "source": [
    "# MSE do modelo\n",
    "MSE = mean_squared_error(y_test, y_pred)\n",
    "MSE"
   ]
  }
 ],
 "metadata": {
  "kernelspec": {
   "display_name": "Python 3",
   "language": "python",
   "name": "python3"
  },
  "language_info": {
   "codemirror_mode": {
    "name": "ipython",
    "version": 3
   },
   "file_extension": ".py",
   "mimetype": "text/x-python",
   "name": "python",
   "nbconvert_exporter": "python",
   "pygments_lexer": "ipython3",
   "version": "3.8.5"
  }
 },
 "nbformat": 4,
 "nbformat_minor": 4
}
